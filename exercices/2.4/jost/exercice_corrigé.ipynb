{
 "cells": [
  {
   "cell_type": "markdown",
   "metadata": {
    "collapsed": false
   },
   "source": [
    "# On désire résoudre les cinq équations différentielles ci-dessous :\n",
    "\n",
    "$du/dt = - r - D/v * u$\n",
    "\n",
    "$dv/dt = D$\n",
    "\n",
    "$dx/dt = - r + D/v * (10.93 - x)$\n",
    "\n",
    "$dy/dt = r - D/v * y$\n",
    "\n",
    "$dz/dt = r - D/v * z$\n",
    "\n",
    "$r(u,v,x,y,z) = A * u * x - B * y * z$\n",
    "\n",
    "# Solution\n"
   ]
  },
  {
   "cell_type": "markdown",
   "metadata": {},
   "source": [
    "Description du problème"
   ]
  },
  {
   "cell_type": "code",
   "execution_count": 1,
   "metadata": {
    "collapsed": true
   },
   "outputs": [],
   "source": [
    "# ATTENTION : Importer le solveur !!\n",
    "from scipy.integrate import odeint\n",
    "import numpy as np # numpy contient la cst Pi ainsi que d'autres choses...."
   ]
  },
  {
   "cell_type": "code",
   "execution_count": 2,
   "metadata": {
    "collapsed": false
   },
   "outputs": [],
   "source": [
    "# Constantes\n",
    "A = 0.00009\n",
    "B = 0.0000833\n",
    "D = 0.05\n",
    "    \n",
    "\n",
    "# Conditions initiales\n",
    "u0 = 7.72\n",
    "v0 = 200\n",
    "x0 = 0\n",
    "y0 = 0\n",
    "z0 = 0"
   ]
  },
  {
   "cell_type": "markdown",
   "metadata": {},
   "source": [
    "Définition des équations diffrentielles"
   ]
  },
  {
   "cell_type": "code",
   "execution_count": 3,
   "metadata": {
    "collapsed": false
   },
   "outputs": [],
   "source": [
    "def equations(variables, t, A, B, D):\n",
    "    u = variables[0]\n",
    "    v = variables[1]\n",
    "    x = variables[2]\n",
    "    y = variables[3]\n",
    "    z = variables[4]\n",
    "  \n",
    "    r = A * u * x - B * y * z;\n",
    "    \n",
    "    if t >= 4000:\n",
    "        D = 0\n",
    "    # Mes équations différentielles\n",
    "    dudt = - r - D/v * u\n",
    "    dvdt = D\n",
    "    dxdt = - r + D/v * (10.93 - x)\n",
    "    dydt = r - D/v * y\n",
    "    dzdt = r - D/v * z\n",
    "    \n",
    "    return [dudt, dvdt, dxdt, dydt, dzdt]"
   ]
  },
  {
   "cell_type": "markdown",
   "metadata": {},
   "source": [
    "Résoudre le problème à l'aide du solveur d'équations différentielles"
   ]
  },
  {
   "cell_type": "code",
   "execution_count": 4,
   "metadata": {
    "collapsed": false
   },
   "outputs": [
    {
     "name": "stdout",
     "output_type": "stream",
     "text": [
      "[  0.00000000e+00   1.00000000e+00   2.00000000e+00 ...,   4.99800000e+03\n",
      "   4.99900000e+03   5.00000000e+03]\n"
     ]
    }
   ],
   "source": [
    "# Définir les conditions initiales\n",
    "variables0 = [u0, v0, x0, y0, z0]\n",
    "t = np.linspace(0, 5000, 5001) # de 0 à 5000 s avec 5001 valeurs ( 1 par seconde) ! Pour D = 0.05\n",
    "print(t) #Linspace permet de générer un vecteur de X à Y avec Z valeur avec des delta entre X et Y cst ! "
   ]
  },
  {
   "cell_type": "code",
   "execution_count": 5,
   "metadata": {
    "collapsed": false
   },
   "outputs": [],
   "source": [
    "valeurs = odeint(equations, variables0, t, (A,B,D)) #odeint : solveur # valeurs est le nom de la fct ici"
   ]
  },
  {
   "cell_type": "code",
   "execution_count": 6,
   "metadata": {
    "collapsed": false
   },
   "outputs": [],
   "source": [
    "u = valeurs[:,0]\n",
    "v = valeurs[:,1]\n",
    "x = valeurs[:,2]\n",
    "x = valeurs[:,2]\n",
    "y = valeurs[:,2]\n",
    "z = valeurs[:,2]"
   ]
  },
  {
   "cell_type": "code",
   "execution_count": 7,
   "metadata": {
    "collapsed": true
   },
   "outputs": [],
   "source": [
    "import matplotlib.pylab as plt #Charger la bibliothèque pour pouvoir tracer le graph"
   ]
  },
  {
   "cell_type": "code",
   "execution_count": 9,
   "metadata": {
    "collapsed": false
   },
   "outputs": [
    {
     "data": {
      "text/plain": [
       "<matplotlib.legend.Legend at 0xa856550>"
      ]
     },
     "execution_count": 9,
     "metadata": {},
     "output_type": "execute_result"
    },
    {
     "data": {
      "image/png": "[encoded data removed]",
      "text/plain": [
       "<matplotlib.figure.Figure at 0x8785e30>"
      ]
     },
     "metadata": {},
     "output_type": "display_data"
    }
   ],
   "source": [
    "plt.plot(t, u, t, x, t, y, t, z)#Permet de tracer le graph\n",
    "plt.xlabel('t (secondes)') # Nom de l'axe x\n",
    "plt.ylabel('u,x,y,z') # Nom de l'axe y\n",
    "plt.legend (['u','x','y','z']) # Legende des courbes\n",
    "#Possibilité d'utiliser des \" \" pour le text, du coup on peut afficher des ' !"
   ]
  },
  {
   "cell_type": "code",
   "execution_count": 10,
   "metadata": {
    "collapsed": false
   },
   "outputs": [
    {
     "data": {
      "text/plain": [
       "<matplotlib.text.Text at 0xa87a5b0>"
      ]
     },
     "execution_count": 10,
     "metadata": {},
     "output_type": "execute_result"
    },
    {
     "data": {
      "image/png": "[encoded data removed]",
      "text/plain": [
       "<matplotlib.figure.Figure at 0xa87f750>"
      ]
     },
     "metadata": {},
     "output_type": "display_data"
    }
   ],
   "source": [
    "plt.plot(t, v)#Permet de tracer le graph\n",
    "plt.xlabel('t (secondes)') # Nom de l'axe x\n",
    "plt.ylabel('v') # Nom de l'axe y\n",
    "\n",
    "#Possibilité d'utiliser des \" \" pour le text, du coup on peut afficher des ' !"
   ]
  },
  {
   "cell_type": "code",
   "execution_count": null,
   "metadata": {
    "collapsed": true
   },
   "outputs": [],
   "source": []
  }
 ],
 "metadata": {
  "anaconda-cloud": {},
  "kernelspec": {
   "display_name": "Python [Root]",
   "language": "python",
   "name": "Python [Root]"
  },
  "language_info": {
   "codemirror_mode": {
    "name": "ipython",
    "version": 3
   },
   "file_extension": ".py",
   "mimetype": "text/x-python",
   "name": "python",
   "nbconvert_exporter": "python",
   "pygments_lexer": "ipython3",
   "version": "3.5.2"
  }
 },
 "nbformat": 4,
 "nbformat_minor": 0
}
