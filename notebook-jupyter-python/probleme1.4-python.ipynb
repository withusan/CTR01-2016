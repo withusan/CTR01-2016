{
 "cells": [
  {
   "cell_type": "markdown",
   "metadata": {
    "collapsed": false
   },
   "source": [
    "# Série 1 - Problème 4 - Python\n",
    "\n",
    "On desire résoudre les deux équations différentielles ci-dessous:\n",
    "\n",
    "$B = 1 - \\frac{x}{0.7990}$\n",
    "\n",
    "$A = 4 \\cdot (1 - 0.5 \\cdot B)$\n",
    "\n",
    "$\\frac{dx}{dt} = -\\frac{2kx^2 y}{A^3}$ avec $x_{0}=0.7990$\n",
    "\n",
    "$\\frac{dx}{dt} = -\\frac{kx^2 y}{A^3}$ avec $y_{0}=0.7990$\n",
    "\n",
    "$\\frac{dx}{dt} = \\frac{kx^2 y}{A^3}$ avec $z_{0}=0.7990$\n",
    "\n",
    "La constante k vaut 10."
   ]
  },
  {
   "cell_type": "markdown",
   "metadata": {},
   "source": [
    "## Solution\n",
    "\n",
    "On commence par importer les bibliothèques nécessaires à la résolution du problème:\n",
    "- le solveur odeint (dans scipy.integrate)\n",
    "- numpy (pour le travail avec les matrices/vecteurs et les constantes mathématiques)\n",
    "- pylab (pour l'affichage sur un graphique)"
   ]
  },
  {
   "cell_type": "code",
   "execution_count": 1,
   "metadata": {
    "collapsed": true
   },
   "outputs": [],
   "source": [
    "from scipy.integrate import odeint\n",
    "import numpy as np \n",
    "import matplotlib.pylab as plt"
   ]
  },
  {
   "cell_type": "markdown",
   "metadata": {},
   "source": [
    "On définit ensuite nos constantes"
   ]
  },
  {
   "cell_type": "code",
   "execution_count": 2,
   "metadata": {
    "collapsed": false
   },
   "outputs": [],
   "source": [
    "# Constantes\n",
    "\n",
    "k = 10\n",
    "\n",
    "# Conditions initiales\n",
    "x0 = 0.7990\n",
    "y0 = 0.7990\n",
    "z0 = 0"
   ]
  },
  {
   "cell_type": "markdown",
   "metadata": {},
   "source": [
    "Les équations différentielles sont définie dans une fonction:"
   ]
  },
  {
   "cell_type": "code",
   "execution_count": 3,
   "metadata": {
    "collapsed": false
   },
   "outputs": [],
   "source": [
    "def equations(variables, t, k):\n",
    "    # On commence par récupérer les variables dans le bon ordre\n",
    "    x, y, z = variables\n",
    "  \n",
    "    # On définit B comme dans la donnée\n",
    "    B = 1 - x / 0.7990\n",
    "    \n",
    "    # On définit A comme dans la donnée\n",
    "    A = 4 * (1 - 0.5 * B)\n",
    "        \n",
    "    # On définit les équations différencielles dans le bon ordre\n",
    "    dx = - k * x * x * y / (A * A * A) # On peut écrire x**2 pour mettre à la puissance\n",
    "    dy = - k * x**2 * y / A**3\n",
    "    dz = k * x**2 * y / A**3\n",
    "    \n",
    "    # On retourne les équations différence sous la forme d'un vecteur\n",
    "    return [dx, dy, dz]"
   ]
  },
  {
   "cell_type": "markdown",
   "metadata": {},
   "source": [
    "Résoudre le problème à l'aide du solveur d'équations différentielles"
   ]
  },
  {
   "cell_type": "code",
   "execution_count": 4,
   "metadata": {
    "collapsed": false
   },
   "outputs": [],
   "source": [
    " # Définir les conditions initiales et le domaine d'intégration\n",
    "variables0 = [x0, y0, z0]\n",
    "t = np.linspace(0, 1000, 1001) \n"
   ]
  },
  {
   "cell_type": "code",
   "execution_count": 5,
   "metadata": {
    "collapsed": false
   },
   "outputs": [],
   "source": [
    "# On appelle solveur qui fait le travail de résolution pour nous\n",
    "valeurs = odeint(equations, variables0, t, (k,))"
   ]
  },
  {
   "cell_type": "markdown",
   "metadata": {},
   "source": [
    "Une fois que le problème est résolu, on peut faire de l'affichage"
   ]
  },
  {
   "cell_type": "code",
   "execution_count": 6,
   "metadata": {
    "collapsed": false
   },
   "outputs": [
    {
     "data": {
      "text/plain": [
       "<matplotlib.legend.Legend at 0x7f50571a3668>"
      ]
     },
     "execution_count": 6,
     "metadata": {},
     "output_type": "execute_result"
    },
    {
     "data": {
      "image/png": "[encoded data removed]",
      "text/plain": [
       "<matplotlib.figure.Figure at 0x7f5055eddc18>"
      ]
     },
     "metadata": {},
     "output_type": "display_data"
    }
   ],
   "source": [
    "plt.figure(1, figsize=(6, 4), dpi=100)\n",
    "plt.plot(t, valeurs)\n",
    "plt.xlabel('t')\n",
    "plt.ylabel('x, y, z')\n",
    "plt.legend (['x','y','z'])\n"
   ]
  },
  {
   "cell_type": "code",
   "execution_count": null,
   "metadata": {
    "collapsed": false
   },
   "outputs": [],
   "source": [
    "\n"
   ]
  }
 ],
 "metadata": {
  "anaconda-cloud": {},
  "kernelspec": {
   "display_name": "Anaconda (Python 3)",
   "language": "python",
   "name": "anaconda3"
  },
  "language_info": {
   "codemirror_mode": {
    "name": "ipython",
    "version": 3
   },
   "file_extension": ".py",
   "mimetype": "text/x-python",
   "name": "python",
   "nbconvert_exporter": "python",
   "pygments_lexer": "ipython3",
   "version": "3.5.2"
  }
 },
 "nbformat": 4,
 "nbformat_minor": 0
}
